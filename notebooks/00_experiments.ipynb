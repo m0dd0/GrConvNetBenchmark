{
 "cells": [],
 "metadata": {
  "kernelspec": {
   "display_name": "Python 3.10.8 ('alr')",
   "language": "python",
   "name": "python3"
  },
  "language_info": {
   "codemirror_mode": {
    "name": "ipython",
    "version": 3
   },
   "file_extension": ".py",
   "mimetype": "text/x-python",
   "name": "python",
   "nbconvert_exporter": "python",
   "pygments_lexer": "ipython3",
   "version": "3.10.8"
  },
  "orig_nbformat": 4,
  "vscode": {
   "interpreter": {
    "hash": "1077c0b1683d29734904ce161e184bda5d111d04caf0377238b7813da83240d3"
   }
  }
 },
 "nbformat": 4,
 "nbformat_minor": 2
}
