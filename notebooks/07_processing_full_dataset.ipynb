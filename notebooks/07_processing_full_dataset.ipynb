{
 "cells": [
  {
   "cell_type": "code",
   "execution_count": 1,
   "metadata": {},
   "outputs": [
    {
     "name": "stdout",
     "output_type": "stream",
     "text": [
      "Jupyter environment detected. Enabling Open3D WebVisualizer.\n",
      "[Open3D INFO] WebRTC GUI backend enabled.\n",
      "[Open3D INFO] WebRTCWindowSystem: HTTP handshake server disabled.\n"
     ]
    }
   ],
   "source": [
    "%load_ext autoreload\n",
    "%autoreload 2\n",
    "\n",
    "from pathlib import Path\n",
    "\n",
    "from matplotlib import pyplot as plt\n",
    "import torch\n",
    "\n",
    "from grconvnet.dataloading.datasets import YCBSimulationData, CornellDataset\n",
    "from grconvnet.preprocessing import Preprocessor\n",
    "from grconvnet.postprocessing import Postprocessor, Img2WorldConverter, GraspHeightAdjuster, Img2WorldCoordConverter, Decropper\n",
    "from grconvnet.utils.processing import End2EndProcessor\n",
    "from grconvnet.utils import visualization as vis\n",
    "from grconvnet.utils.export import Exporter"
   ]
  },
  {
   "cell_type": "code",
   "execution_count": 2,
   "metadata": {},
   "outputs": [],
   "source": [
    "dataset_path = Path(\"/home/moritz/Documents/ycb_sim_data_1\")\n",
    "dataset = YCBSimulationData(dataset_path)"
   ]
  },
  {
   "cell_type": "code",
   "execution_count": 3,
   "metadata": {},
   "outputs": [],
   "source": [
    "sample = dataset[0]\n",
    "\n",
    "cam_intrinsics = sample.cam_intrinsics\n",
    "cam_pos = sample.cam_pos\n",
    "cam_rot = sample.cam_rot\n",
    "image_size = sample.rgb.shape[1:]"
   ]
  },
  {
   "cell_type": "code",
   "execution_count": 4,
   "metadata": {},
   "outputs": [],
   "source": [
    "resize = True"
   ]
  },
  {
   "cell_type": "code",
   "execution_count": 5,
   "metadata": {},
   "outputs": [],
   "source": [
    "e2e_processor = End2EndProcessor(\n",
    "    preprocessor=Preprocessor(\n",
    "        mask_rgb_neg_color=torch.Tensor([255, 255, 255]),\n",
    "        mask_rgb_pos_color=torch.Tensor([0, 0, 0]),\n",
    "        resize=resize,\n",
    "    ),\n",
    "    postprocessor=Postprocessor(n_grasps=3),\n",
    "    img2world_converter=Img2WorldConverter(\n",
    "        coord_converter=Img2WorldCoordConverter(\n",
    "            cam_intrinsics,\n",
    "            cam_rot,\n",
    "            cam_pos,\n",
    "        ),\n",
    "        decropper=Decropper(resized_in_preprocess=resize, original_img_size=image_size),\n",
    "        height_adjuster=GraspHeightAdjuster(\n",
    "            min_height=0.01,\n",
    "            target_grasp_depth=0.04,\n",
    "        ),\n",
    "    )\n",
    "    # if cam_intrinsics is not None and cam_pos is not None and cam_rot is not None\n",
    "    # else None,\n",
    ")\n"
   ]
  },
  {
   "cell_type": "code",
   "execution_count": null,
   "metadata": {},
   "outputs": [],
   "source": [
    "for sample in dataset:\n",
    "    process_data = e2e_processor(sample)\n",
    "\n",
    "    export_data = {\n",
    "        \"rgb_cropped\": process_data[\"preprocessor\"][\"rgb_cropped\"],\n",
    "        \"depth_cropped\": process_data[\"preprocessor\"][\"depth_cropped\"],\n",
    "        \"rgb_masked\": process_data[\"preprocessor\"][\"rgb_masked\"],\n",
    "        \"q_img\": process_data[\"postprocessor\"][\"q_img\"],\n",
    "        \"angle_img\": process_data[\"postprocessor\"][\"angle_img\"],\n",
    "        \"width_img\": process_data[\"postprocessor\"][\"width_img\"],\n",
    "        \"grasps_img\": process_data[\"grasps_img\"],\n",
    "        \"grasps_world\": process_data[\"grasps_world\"],\n",
    "        \"model_input\": process_data[\"model_input\"],\n",
    "        \"overview\": fig,\n",
    "    }\n",
    "\n",
    "    exporter = Exporter(export_dir=Path.cwd().parent / \"grconvnet\" / \"results\" / \"\")\n",
    "    export_path = exporter(export_data, f\"_{process_data['sample'].name}\")"
   ]
  }
 ],
 "metadata": {
  "kernelspec": {
   "display_name": "Python 3.10.9 ('alr')",
   "language": "python",
   "name": "python3"
  },
  "language_info": {
   "codemirror_mode": {
    "name": "ipython",
    "version": 3
   },
   "file_extension": ".py",
   "mimetype": "text/x-python",
   "name": "python",
   "nbconvert_exporter": "python",
   "pygments_lexer": "ipython3",
   "version": "3.10.9"
  },
  "orig_nbformat": 4,
  "vscode": {
   "interpreter": {
    "hash": "ef7e1541b8e7b6b5672ac838d3c045be09c9245709d40ce12336bbbdd1b51144"
   }
  }
 },
 "nbformat": 4,
 "nbformat_minor": 2
}
