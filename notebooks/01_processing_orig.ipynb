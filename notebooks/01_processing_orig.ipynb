{
 "cells": [
  {
   "cell_type": "code",
   "execution_count": 2,
   "metadata": {},
   "outputs": [
    {
     "name": "stdout",
     "output_type": "stream",
     "text": [
      "The autoreload extension is already loaded. To reload it, use:\n",
      "  %reload_ext autoreload\n"
     ]
    },
    {
     "ename": "ModuleNotFoundError",
     "evalue": "No module named 'utils'",
     "output_type": "error",
     "traceback": [
      "\u001b[0;31m---------------------------------------------------------------------------\u001b[0m",
      "\u001b[0;31mModuleNotFoundError\u001b[0m                       Traceback (most recent call last)",
      "Cell \u001b[0;32mIn[2], line 9\u001b[0m\n\u001b[1;32m      6\u001b[0m \u001b[38;5;28;01mfrom\u001b[39;00m \u001b[38;5;21;01mmatplotlib\u001b[39;00m \u001b[38;5;28;01mimport\u001b[39;00m pyplot \u001b[38;5;28;01mas\u001b[39;00m plt\n\u001b[1;32m      7\u001b[0m \u001b[38;5;28;01mimport\u001b[39;00m \u001b[38;5;21;01mtorch\u001b[39;00m\n\u001b[0;32m----> 9\u001b[0m \u001b[38;5;28;01mfrom\u001b[39;00m \u001b[38;5;21;01mgrconvnet\u001b[39;00m\u001b[38;5;21;01m.\u001b[39;00m\u001b[38;5;21;01m_orig\u001b[39;00m\u001b[38;5;21;01m.\u001b[39;00m\u001b[38;5;21;01mutils\u001b[39;00m\u001b[38;5;21;01m.\u001b[39;00m\u001b[38;5;21;01mvisualisation\u001b[39;00m\u001b[38;5;21;01m.\u001b[39;00m\u001b[38;5;21;01mplot\u001b[39;00m \u001b[38;5;28;01mimport\u001b[39;00m plot_results\n\u001b[1;32m     11\u001b[0m \u001b[38;5;28;01mfrom\u001b[39;00m \u001b[38;5;21;01mgrconvnet\u001b[39;00m\u001b[38;5;21;01m.\u001b[39;00m\u001b[38;5;21;01mpreprocessing\u001b[39;00m \u001b[38;5;28;01mimport\u001b[39;00m RebuildLegacyPreprocessor, LegacyPreprocessor\n\u001b[1;32m     12\u001b[0m \u001b[38;5;28;01mfrom\u001b[39;00m \u001b[38;5;21;01mgrconvnet\u001b[39;00m\u001b[38;5;21;01m.\u001b[39;00m\u001b[38;5;21;01mdataloading\u001b[39;00m \u001b[38;5;28;01mimport\u001b[39;00m CornellDataset\n",
      "File \u001b[0;32m~/Documents/GrConvNetBenchmark/grconvnet/_orig/utils/visualisation/plot.py:7\u001b[0m\n\u001b[1;32m      4\u001b[0m \u001b[39mimport\u001b[39;00m \u001b[39mmatplotlib\u001b[39;00m\u001b[39m.\u001b[39;00m\u001b[39mpyplot\u001b[39;00m \u001b[39mas\u001b[39;00m \u001b[39mplt\u001b[39;00m\n\u001b[1;32m      5\u001b[0m \u001b[39mimport\u001b[39;00m \u001b[39mnumpy\u001b[39;00m \u001b[39mas\u001b[39;00m \u001b[39mnp\u001b[39;00m\n\u001b[0;32m----> 7\u001b[0m \u001b[39mfrom\u001b[39;00m \u001b[39mutils\u001b[39;00m\u001b[39m.\u001b[39;00m\u001b[39mdataset_processing\u001b[39;00m\u001b[39m.\u001b[39;00m\u001b[39mgrasp\u001b[39;00m \u001b[39mimport\u001b[39;00m detect_grasps\n\u001b[1;32m      9\u001b[0m warnings\u001b[39m.\u001b[39mfilterwarnings(\u001b[39m\"\u001b[39m\u001b[39mignore\u001b[39m\u001b[39m\"\u001b[39m)\n\u001b[1;32m     12\u001b[0m \u001b[39mdef\u001b[39;00m \u001b[39mplot_results\u001b[39m(\n\u001b[1;32m     13\u001b[0m         fig,\n\u001b[1;32m     14\u001b[0m         rgb_img,\n\u001b[0;32m   (...)\u001b[0m\n\u001b[1;32m     19\u001b[0m         grasp_width_img\u001b[39m=\u001b[39m\u001b[39mNone\u001b[39;00m\n\u001b[1;32m     20\u001b[0m ):\n",
      "\u001b[0;31mModuleNotFoundError\u001b[0m: No module named 'utils'"
     ]
    }
   ],
   "source": [
    "%load_ext autoreload\n",
    "%autoreload 2\n",
    "\n",
    "from pathlib import Path\n",
    "\n",
    "from matplotlib import pyplot as plt\n",
    "import torch\n",
    "\n",
    "from grconvnet._orig.utils.visualisation.plot import plot_results\n",
    "\n",
    "from grconvnet.preprocessing import RebuildLegacyPreprocessor, LegacyPreprocessor\n",
    "from grconvnet.dataloading import CornellDataset\n",
    "from grconvnet.postprocessing import LegacyPostprocessor\n",
    "from grconvnet.models import GenerativeResnet\n",
    "from grconvnet.utils.export import Exporter"
   ]
  },
  {
   "cell_type": "code",
   "execution_count": null,
   "metadata": {},
   "outputs": [],
   "source": [
    "dataset = CornellDataset(Path(\"/home/moritz/Documents/cornell\"), transform= RebuildLegacyPreprocessor())\n",
    "\n",
    "device = \"cuda\"\n",
    "model = GenerativeResnet.from_jit(device=device)\n",
    "\n",
    "postprocessor = LegacyPostprocessor()"
   ]
  },
  {
   "cell_type": "code",
   "execution_count": null,
   "metadata": {},
   "outputs": [],
   "source": [
    "sample = dataset[745]\n",
    "sample = sample.to(device)\n",
    "\n",
    "with torch.no_grad():\n",
    "    predictions = model(sample.unsqueeze(0))\n",
    "\n",
    "grasps_img = postprocessor(predictions)"
   ]
  },
  {
   "cell_type": "code",
   "execution_count": null,
   "metadata": {},
   "outputs": [],
   "source": [
    "fig = plt.figure(figsize=(10, 10))\n",
    "\n",
    "plot_results(\n",
    "    fig=fig,\n",
    "    rgb_img=dataset.transform.intermediate_results[\"rgb_cropped\"].astype(\"uint8\"),\n",
    "    grasp_q_img=postprocessor.intermediate_results[\"q_img\"],\n",
    "    grasp_angle_img=postprocessor.intermediate_results[\"angle_img\"],\n",
    "    no_grasps=2,\n",
    "    grasp_width_img=postprocessor.intermediate_results[\"width_img\"],\n",
    ")"
   ]
  }
 ],
 "metadata": {
  "kernelspec": {
   "display_name": "Python 3.9.16 ('grconvnet')",
   "language": "python",
   "name": "python3"
  },
  "language_info": {
   "codemirror_mode": {
    "name": "ipython",
    "version": 3
   },
   "file_extension": ".py",
   "mimetype": "text/x-python",
   "name": "python",
   "nbconvert_exporter": "python",
   "pygments_lexer": "ipython3",
   "version": "3.9.16"
  },
  "orig_nbformat": 4,
  "vscode": {
   "interpreter": {
    "hash": "a9c83c6ee66c93ae8949c8b48bbda506d35e6be2e00ee394792fd69b0871547a"
   }
  }
 },
 "nbformat": 4,
 "nbformat_minor": 2
}
