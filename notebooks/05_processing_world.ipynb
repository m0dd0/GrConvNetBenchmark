{
 "cells": [
  {
   "cell_type": "code",
   "execution_count": 1,
   "metadata": {},
   "outputs": [
    {
     "name": "stdout",
     "output_type": "stream",
     "text": [
      "Jupyter environment detected. Enabling Open3D WebVisualizer.\n",
      "[Open3D INFO] WebRTC GUI backend enabled.\n",
      "[Open3D INFO] WebRTCWindowSystem: HTTP handshake server disabled.\n"
     ]
    }
   ],
   "source": [
    "%load_ext autoreload\n",
    "%autoreload 2\n",
    "\n",
    "from pathlib import Path\n",
    "\n",
    "from matplotlib import pyplot as plt\n",
    "import torch\n",
    "\n",
    "from grconvnet.dataloading.datasets import YCBSimulationData\n",
    "from grconvnet.preprocessing import Preprocessor, CenterCropResized, Masker\n",
    "from grconvnet.postprocessing import Postprocessor, SkGaussian, Scaler, GraspLocalizer, DeCenterCropResized, Img2WorldConverter, Img2WorldCoordConverter, GraspHeightAdjuster\n",
    "from grconvnet.models import GenerativeResnet\n",
    "from grconvnet.utils import visualization as vis"
   ]
  },
  {
   "cell_type": "code",
   "execution_count": 2,
   "metadata": {},
   "outputs": [],
   "source": [
    "dataset = YCBSimulationData(\n",
    "    Path(\"/home/moritz/Documents/ycb_sim_data_1\"),\n",
    "    transform=Preprocessor(\n",
    "        reformatter=CenterCropResized((224, 224)),\n",
    "        masker=Masker(negative_value=[255, 255, 255], positive_value=[0, 0, 0]),\n",
    "    ),\n",
    ")\n",
    "\n",
    "device = \"cuda\"\n",
    "model = GenerativeResnet.from_jit(device=device)\n",
    "\n",
    "postprocessor = Postprocessor(\n",
    "    q_blurrer=SkGaussian(2),\n",
    "    angle_blurrer=SkGaussian(2),\n",
    "    width_blurrer=SkGaussian(1),\n",
    "    width_scaler=Scaler(150),\n",
    "    grasp_localizer=GraspLocalizer(min_distance=20, threshold=0.2, n_grasps=5),\n",
    ")\n",
    "\n",
    "img2world_converter = Img2WorldConverter(\n",
    "    coord_converter=Img2WorldCoordConverter(),\n",
    "    decropper=DeCenterCropResized(),    \n",
    "    height_adjuster=GraspHeightAdjuster(\n",
    "        min_height=0.01,\n",
    "        target_grasp_depth=0.04,\n",
    "    ),\n",
    ")\n"
   ]
  },
  {
   "cell_type": "code",
   "execution_count": 3,
   "metadata": {},
   "outputs": [],
   "source": [
    "sample = dataset[-1]\n",
    "sample = sample.to(device)\n",
    "\n",
    "with torch.no_grad():\n",
    "    predictions = model(sample.unsqueeze(0))\n",
    "\n",
    "grasps_img = postprocessor(predictions)\n",
    "\n",
    "grasps_world = [\n",
    "    img2world_converter(\n",
    "        g_img,\n",
    "        dataset.transform.intermediate_results[\"initial_sample\"].depth,\n",
    "        dataset.transform.intermediate_results[\"initial_sample\"].cam_intrinsics,\n",
    "        dataset.transform.intermediate_results[\"initial_sample\"].cam_rot,\n",
    "        dataset.transform.intermediate_results[\"initial_sample\"].cam_pos,\n",
    "    )\n",
    "    for g_img in grasps_img\n",
    "]\n"
   ]
  },
  {
   "cell_type": "code",
   "execution_count": null,
   "metadata": {},
   "outputs": [],
   "source": [
    "fig = vis.overview_fig(\n",
    "    fig=plt.figure(figsize=(20,20)),\n",
    "    original_rgb=vis.make_tensor_displayable(dataset.transform.intermediate_results[\"initial_sample\"].rgb, True, True),\n",
    "    preprocessed_rgb=vis.make_tensor_displayable(dataset.transform.intermediate_results[\"rgb_masked\"], True, True),\n",
    "    q_img=vis.make_tensor_displayable(postprocessor.intermediate_results[\"q_img\"], False, False),\n",
    "    angle_img=vis.make_tensor_displayable(postprocessor.intermediate_results[\"angle_img\"], False, False),\n",
    "    width_img=vis.make_tensor_displayable(postprocessor.intermediate_results[\"width_img\"], False, False),\n",
    "    image_grasps=grasps_img,\n",
    "    world_grasps=grasps_world,\n",
    "    cam_intrinsics=dataset.transform.intermediate_results[\"initial_sample\"].cam_intrinsics,\n",
    "    cam_rot=dataset.transform.intermediate_results[\"initial_sample\"].cam_rot,\n",
    "    cam_pos=dataset.transform.intermediate_results[\"initial_sample\"].cam_pos,\n",
    ")\n",
    "\n",
    "plt.show()"
   ]
  },
  {
   "cell_type": "code",
   "execution_count": 4,
   "metadata": {},
   "outputs": [
    {
     "ename": "NameError",
     "evalue": "name 'process_data' is not defined",
     "output_type": "error",
     "traceback": [
      "\u001b[0;31m---------------------------------------------------------------------------\u001b[0m",
      "\u001b[0;31mNameError\u001b[0m                                 Traceback (most recent call last)",
      "Cell \u001b[0;32mIn[4], line 3\u001b[0m\n\u001b[1;32m      1\u001b[0m fig \u001b[39m=\u001b[39m vis\u001b[39m.\u001b[39moverview_fig(\n\u001b[1;32m      2\u001b[0m     fig\u001b[39m=\u001b[39mplt\u001b[39m.\u001b[39mfigure(figsize\u001b[39m=\u001b[39m(\u001b[39m20\u001b[39m, \u001b[39m20\u001b[39m)),\n\u001b[0;32m----> 3\u001b[0m     original_rgb\u001b[39m=\u001b[39mvis\u001b[39m.\u001b[39mmake_tensor_displayable(process_data[\u001b[39m\"\u001b[39m\u001b[39msample\u001b[39m\u001b[39m\"\u001b[39m]\u001b[39m.\u001b[39mrgb, \u001b[39mTrue\u001b[39;00m, \u001b[39mTrue\u001b[39;00m),\n\u001b[1;32m      4\u001b[0m     preprocessed_rgb\u001b[39m=\u001b[39mvis\u001b[39m.\u001b[39mmake_tensor_displayable(\n\u001b[1;32m      5\u001b[0m         process_data[\u001b[39m\"\u001b[39m\u001b[39mpreprocessor\u001b[39m\u001b[39m\"\u001b[39m][\u001b[39m\"\u001b[39m\u001b[39mrgb_masked\u001b[39m\u001b[39m\"\u001b[39m], \u001b[39mTrue\u001b[39;00m, \u001b[39mTrue\u001b[39;00m\n\u001b[1;32m      6\u001b[0m     ),\n\u001b[1;32m      7\u001b[0m     q_img\u001b[39m=\u001b[39mvis\u001b[39m.\u001b[39mmake_tensor_displayable(\n\u001b[1;32m      8\u001b[0m         process_data[\u001b[39m\"\u001b[39m\u001b[39mpostprocessor\u001b[39m\u001b[39m\"\u001b[39m][\u001b[39m\"\u001b[39m\u001b[39mq_img\u001b[39m\u001b[39m\"\u001b[39m], \u001b[39mFalse\u001b[39;00m, \u001b[39mFalse\u001b[39;00m\n\u001b[1;32m      9\u001b[0m     ),\n\u001b[1;32m     10\u001b[0m     angle_img\u001b[39m=\u001b[39mvis\u001b[39m.\u001b[39mmake_tensor_displayable(\n\u001b[1;32m     11\u001b[0m         process_data[\u001b[39m\"\u001b[39m\u001b[39mpostprocessor\u001b[39m\u001b[39m\"\u001b[39m][\u001b[39m\"\u001b[39m\u001b[39mangle_img\u001b[39m\u001b[39m\"\u001b[39m], \u001b[39mFalse\u001b[39;00m, \u001b[39mFalse\u001b[39;00m\n\u001b[1;32m     12\u001b[0m     ),\n\u001b[1;32m     13\u001b[0m     width_img\u001b[39m=\u001b[39mvis\u001b[39m.\u001b[39mmake_tensor_displayable(\n\u001b[1;32m     14\u001b[0m         process_data[\u001b[39m\"\u001b[39m\u001b[39mpostprocessor\u001b[39m\u001b[39m\"\u001b[39m][\u001b[39m\"\u001b[39m\u001b[39mwidth_img\u001b[39m\u001b[39m\"\u001b[39m], \u001b[39mFalse\u001b[39;00m, \u001b[39mFalse\u001b[39;00m\n\u001b[1;32m     15\u001b[0m     ),\n\u001b[1;32m     16\u001b[0m     image_grasps\u001b[39m=\u001b[39mprocess_data[\u001b[39m\"\u001b[39m\u001b[39mgrasps_img\u001b[39m\u001b[39m\"\u001b[39m],\n\u001b[1;32m     17\u001b[0m     world_grasps\u001b[39m=\u001b[39mprocess_data[\u001b[39m\"\u001b[39m\u001b[39mgrasps_world\u001b[39m\u001b[39m\"\u001b[39m],\n\u001b[1;32m     18\u001b[0m     cam_intrinsics\u001b[39m=\u001b[39mcam_intrinsics,\n\u001b[1;32m     19\u001b[0m     cam_rot\u001b[39m=\u001b[39mcam_rot,\n\u001b[1;32m     20\u001b[0m     cam_pos\u001b[39m=\u001b[39mcam_pos,\n\u001b[1;32m     21\u001b[0m )\n\u001b[1;32m     23\u001b[0m plt\u001b[39m.\u001b[39mshow()\n",
      "\u001b[0;31mNameError\u001b[0m: name 'process_data' is not defined"
     ]
    },
    {
     "data": {
      "text/plain": [
       "<Figure size 2000x2000 with 0 Axes>"
      ]
     },
     "metadata": {},
     "output_type": "display_data"
    }
   ],
   "source": [
    "fig = vis.overview_fig(\n",
    "    fig=plt.figure(figsize=(20, 20)),\n",
    "    original_rgb=vis.make_tensor_displayable(process_data[\"sample\"].rgb, True, True),\n",
    "    preprocessed_rgb=vis.make_tensor_displayable(\n",
    "        process_data[\"preprocessor\"][\"rgb_masked\"], True, True\n",
    "    ),\n",
    "    q_img=vis.make_tensor_displayable(\n",
    "        process_data[\"postprocessor\"][\"q_img\"], False, False\n",
    "    ),\n",
    "    angle_img=vis.make_tensor_displayable(\n",
    "        process_data[\"postprocessor\"][\"angle_img\"], False, False\n",
    "    ),\n",
    "    width_img=vis.make_tensor_displayable(\n",
    "        process_data[\"postprocessor\"][\"width_img\"], False, False\n",
    "    ),\n",
    "    image_grasps=process_data[\"grasps_img\"],\n",
    "    world_grasps=process_data[\"grasps_world\"],\n",
    "    cam_intrinsics=cam_intrinsics,\n",
    "    cam_rot=cam_rot,\n",
    "    cam_pos=cam_pos,\n",
    ")\n",
    "\n",
    "plt.show()"
   ]
  },
  {
   "cell_type": "code",
   "execution_count": null,
   "metadata": {},
   "outputs": [],
   "source": [
    "export_data = {\n",
    "    \"rgb_cropped\": process_data[\"preprocessor\"][\"rgb_cropped\"],\n",
    "    \"depth_cropped\": process_data[\"preprocessor\"][\"depth_cropped\"],\n",
    "    \"rgb_masked\": process_data[\"preprocessor\"][\"rgb_masked\"],\n",
    "    \"q_img\": process_data[\"postprocessor\"][\"q_img\"],\n",
    "    \"angle_img\": process_data[\"postprocessor\"][\"angle_img\"],\n",
    "    \"width_img\": process_data[\"postprocessor\"][\"width_img\"],\n",
    "    \"grasps_img\": process_data[\"grasps_img\"],\n",
    "    \"grasps_world\": process_data[\"grasps_world\"],\n",
    "    \"model_input\": process_data[\"model_input\"],\n",
    "    \"overview\": fig,\n",
    "}\n",
    "\n",
    "exporter = Exporter(export_dir=Path.cwd().parent / \"grconvnet\" / \"results\" / \"test\")\n",
    "export_path = exporter(export_data, f\"05_processing_world_{process_data['sample'].name}\")"
   ]
  }
 ],
 "metadata": {
  "kernelspec": {
   "display_name": "Python 3.10.9 ('alr')",
   "language": "python",
   "name": "python3"
  },
  "language_info": {
   "codemirror_mode": {
    "name": "ipython",
    "version": 3
   },
   "file_extension": ".py",
   "mimetype": "text/x-python",
   "name": "python",
   "nbconvert_exporter": "python",
   "pygments_lexer": "ipython3",
   "version": "3.10.9"
  },
  "orig_nbformat": 4,
  "vscode": {
   "interpreter": {
    "hash": "ef7e1541b8e7b6b5672ac838d3c045be09c9245709d40ce12336bbbdd1b51144"
   }
  }
 },
 "nbformat": 4,
 "nbformat_minor": 2
}
