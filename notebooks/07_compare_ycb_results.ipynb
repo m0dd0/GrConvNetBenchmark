{
 "cells": [
  {
   "cell_type": "code",
   "execution_count": null,
   "metadata": {},
   "outputs": [],
   "source": [
    "from pathlib import Path\n",
    "import json\n",
    "\n",
    "import matplotlib as mpl\n",
    "from matplotlib import pyplot as plt\n",
    "import numpy as np\n",
    "\n",
    "from grconvnet.utils import visualization as vis\n",
    "from grconvnet.datatypes import ImageGrasp, RealGrasp"
   ]
  },
  {
   "cell_type": "code",
   "execution_count": null,
   "metadata": {},
   "outputs": [],
   "source": [
    "result_paths = [\n",
    "    Path.cwd().parent / \"grconvnet\" / \"results\" / \"ycb_1_b10\",\n",
    "    Path.cwd().parent / \"grconvnet\" / \"results\" / \"ycb_2_b10\",\n",
    "    # Path.cwd().parent / \"grconvnet\" / \"results\" / \"ycb_3_b10\",\n",
    "]\n"
   ]
  },
  {
   "cell_type": "code",
   "execution_count": null,
   "metadata": {},
   "outputs": [],
   "source": [
    "result_names = sorted([p.name for p in result_paths[0].iterdir() if p.is_dir()])\n",
    "\n",
    "for result_name in result_names:\n",
    "    fig, axes = plt.subplots(2, len(result_paths), figsize=(10, 5))\n",
    "    fig.suptitle(result_name)\n",
    "    fig.tight_layout()\n",
    "\n",
    "    for i, result_path in enumerate(result_paths):\n",
    "        with open(result_path / result_name / \"data.json\") as f:\n",
    "            grasps_data = json.load(f)\n",
    "\n",
    "        grasps_image = [\n",
    "            ImageGrasp(np.array(g[\"center\"]), g[\"quality\"], g[\"angle\"], g[\"width\"])\n",
    "            for g in grasps_data[\"grasps_img\"]\n",
    "        ]\n",
    "        grasps_world = [\n",
    "            RealGrasp(np.array(g[\"center\"]), g[\"quality\"], g[\"angle\"], g[\"width\"])\n",
    "            for g in grasps_data[\"grasps_world\"]\n",
    "        ]\n",
    "\n",
    "        rgb_cropped = mpl.image.imread(result_path / result_name / \"rgb_cropped.png\")\n",
    "        rgb_original = mpl.image.imread(result_path / result_name / \"original_rgb.png\")\n",
    "\n",
    "        # axes[i].imshow(rgb_original)\n",
    "        vis.image_grasps_ax(axes[0][i], rgb_cropped, grasps_image)\n",
    "        axes[0][i].set_title(f\"{result_path.name} image\")\n",
    "        vis.world_grasps_ax(\n",
    "            axes[1][i],\n",
    "            rgb_original,\n",
    "            grasps_world,\n",
    "            np.array(grasps_data[\"cam_intrinsics\"]),\n",
    "            np.array(grasps_data[\"cam_rot\"]),\n",
    "            np.array(grasps_data[\"cam_pos\"]),\n",
    "        )\n",
    "        axes[1][i].set_title(f\"{result_path.name} world\")\n",
    "\n",
    "    plt.show()\n"
   ]
  }
 ],
 "metadata": {
  "kernelspec": {
   "display_name": "Python 3.10.9 ('alr')",
   "language": "python",
   "name": "python3"
  },
  "language_info": {
   "codemirror_mode": {
    "name": "ipython",
    "version": 3
   },
   "file_extension": ".py",
   "mimetype": "text/x-python",
   "name": "python",
   "nbconvert_exporter": "python",
   "pygments_lexer": "ipython3",
   "version": "3.10.9"
  },
  "orig_nbformat": 4,
  "vscode": {
   "interpreter": {
    "hash": "ef7e1541b8e7b6b5672ac838d3c045be09c9245709d40ce12336bbbdd1b51144"
   }
  }
 },
 "nbformat": 4,
 "nbformat_minor": 2
}
